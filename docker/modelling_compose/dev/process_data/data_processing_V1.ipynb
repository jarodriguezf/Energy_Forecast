{
 "cells": [
  {
   "cell_type": "code",
   "execution_count": 1,
   "metadata": {},
   "outputs": [],
   "source": [
    "import pandas as pd\n",
    "import numpy as np\n",
    "import matplotlib.pyplot as plt\n",
    "import seaborn as sns\n",
    "from sklearn.cluster import KMeans\n",
    "from sklearn.preprocessing import StandardScaler, power_transform\n",
    "from sklearn.mixture import GaussianMixture"
   ]
  },
  {
   "cell_type": "code",
   "execution_count": 2,
   "metadata": {},
   "outputs": [],
   "source": [
    "df = pd.read_parquet('../../data_parquet/train_data.parquet')\n",
    "df_copy = df.copy()"
   ]
  },
  {
   "cell_type": "code",
   "execution_count": 3,
   "metadata": {},
   "outputs": [
    {
     "data": {
      "text/plain": [
       "time_hourly                                    0\n",
       "generation_biomass                             0\n",
       "generation_fossil_brown_coal_lignite           0\n",
       "generation_fossil_coal_derived_gas             0\n",
       "generation_fossil_gas                          0\n",
       "generation_fossil_hard_coal                    0\n",
       "generation_fossil_oil                          0\n",
       "generation_fossil_oil_shale                    0\n",
       "generation_fossil_peat                         0\n",
       "generation_geothermal                          0\n",
       "generation_hydro_pumped_storage_consumption    0\n",
       "generation_hydro_run_of_river_and_poundage     0\n",
       "generation_hydro_water_reservoir               0\n",
       "generation_marine                              0\n",
       "generation_nuclear                             0\n",
       "generation_other                               0\n",
       "generation_other_renewable                     0\n",
       "generation_solar                               0\n",
       "generation_waste                               0\n",
       "generation_wind_offshore                       0\n",
       "generation_wind_onshore                        0\n",
       "total_load_actual                              0\n",
       "price_actual                                   0\n",
       "city_name                                      0\n",
       "temp                                           0\n",
       "temp_min                                       0\n",
       "temp_max                                       0\n",
       "pressure                                       0\n",
       "humidity                                       0\n",
       "wind_speed                                     0\n",
       "wind_deg                                       0\n",
       "rain_1h                                        0\n",
       "rain_3h                                        0\n",
       "snow_3h                                        0\n",
       "clouds_all                                     0\n",
       "weather_id                                     0\n",
       "weather_main                                   0\n",
       "weather_icon                                   0\n",
       "dtype: int64"
      ]
     },
     "execution_count": 3,
     "metadata": {},
     "output_type": "execute_result"
    }
   ],
   "source": [
    "# nulos?\n",
    "df_copy.isna().sum()"
   ]
  },
  {
   "cell_type": "code",
   "execution_count": 4,
   "metadata": {},
   "outputs": [
    {
     "data": {
      "text/plain": [
       "0"
      ]
     },
     "execution_count": 4,
     "metadata": {},
     "output_type": "execute_result"
    }
   ],
   "source": [
    "# Duplicados?\n",
    "df_copy.duplicated().sum()"
   ]
  },
  {
   "cell_type": "markdown",
   "metadata": {},
   "source": [
    "**Transformaciones y procesamientos variables energéticas**"
   ]
  },
  {
   "cell_type": "code",
   "execution_count": 3,
   "metadata": {},
   "outputs": [],
   "source": [
    "# Eliminar variables con alta frecuencia de 0\n",
    "def drop_var_energy_0(df_copy):\n",
    "    df_copy.drop(['generation_fossil_coal_derived_gas',\n",
    "                  'generation_fossil_oil_shale','generation_fossil_peat',\n",
    "                  'generation_geothermal','generation_marine',\n",
    "                  'generation_wind_offshore'], axis=1, inplace=True)\n",
    "    return df_copy"
   ]
  },
  {
   "cell_type": "code",
   "execution_count": 4,
   "metadata": {},
   "outputs": [],
   "source": [
    "df_copy = drop_var_energy_0(df_copy)"
   ]
  },
  {
   "cell_type": "code",
   "execution_count": 5,
   "metadata": {},
   "outputs": [],
   "source": [
    "# generation_fossil_brown_coal_lignite, estratificar en dos categorias 0 y 1.\n",
    "def stratify_generation_fossil_brown_coal_lignite(df_copy):\n",
    "    \"\"\" Si los valores de la variable son mayores que 200, el valor se modifica a 1.\n",
    "        En caso contrario, se mantienen en 0.\n",
    "    Args:\n",
    "        df_copy (Dataframe): copia de dataframe sin modificar valores\n",
    "\n",
    "    Returns:\n",
    "        Dataframe: dataframe modificado\n",
    "    \"\"\"\n",
    "    df_copy['generation_fossil_brown_coal_lignite']=df_copy['generation_fossil_brown_coal_lignite'].apply(lambda x: 1 if x >= 200 else 0)\n",
    "    return df_copy"
   ]
  },
  {
   "cell_type": "code",
   "execution_count": 6,
   "metadata": {},
   "outputs": [],
   "source": [
    "df_copy = stratify_generation_fossil_brown_coal_lignite(df_copy)"
   ]
  },
  {
   "cell_type": "code",
   "execution_count": 7,
   "metadata": {},
   "outputs": [],
   "source": [
    "# generation_fossil_gas, eliminar valores atípicos\n",
    "def outliers_generation_fossil_gas(df_copy):\n",
    "    # Deteccion de atípicos \n",
    "    q1 = df_copy['generation_fossil_gas'].quantile(0.25)\n",
    "    q3 = df_copy['generation_fossil_gas'].quantile(0.75)\n",
    "    iqr = q3-q1\n",
    "    Lower_tail = q1 - 1.5 * iqr\n",
    "    Upper_tail = q3 + 1.5 * iqr\n",
    "\n",
    "    print('Antes de eliminar atípicos:',len(df_copy['generation_fossil_gas']))\n",
    "    \n",
    "    # Filtramos en pandas extrayendo los valores entre los quantiles\n",
    "    filtered_df = df_copy[(df_copy['generation_fossil_gas'] >= Lower_tail)&(df_copy['generation_fossil_gas'] <= Upper_tail)]\n",
    "\n",
    "    print('Despues de eliminar atípicos:',len(filtered_df))\n",
    "    return filtered_df"
   ]
  },
  {
   "cell_type": "code",
   "execution_count": 8,
   "metadata": {},
   "outputs": [
    {
     "name": "stdout",
     "output_type": "stream",
     "text": [
      "Antes de eliminar atípicos: 160564\n",
      "Despues de eliminar atípicos: 150578\n"
     ]
    }
   ],
   "source": [
    "df_copy=outliers_generation_fossil_gas(df_copy)"
   ]
  },
  {
   "cell_type": "code",
   "execution_count": 9,
   "metadata": {},
   "outputs": [],
   "source": [
    "# Clase perteneciente a generation_fossil_hard_coal, kmeans y transformacion por distancias al centroide\n",
    "class distance_transform_generation_fossil_hard_coal:\n",
    "    def __init__(self, df_copy):\n",
    "        self.df_copy = df_copy\n",
    "    \n",
    "    def scaler(self):\n",
    "        scaler = StandardScaler()\n",
    "        df_copy['generation_fossil_hard_coal']=scaler.fit_transform(self.df_copy[['generation_fossil_hard_coal']])\n",
    "        return self.df_copy\n",
    "\n",
    "    def kmeans_transform(self):\n",
    "        self.scaler() # Escalamos en funcion\n",
    "        # Clustering\n",
    "        kmeans = KMeans(n_clusters=2, random_state=42)\n",
    "        kmeans.fit(self.df_copy[['generation_fossil_hard_coal']])\n",
    "\n",
    "        # Extraemos distancias\n",
    "        distances = kmeans.transform(self.df_copy[['generation_fossil_hard_coal']])\n",
    "\n",
    "        # Añadimos a la columna los nuevos valores\n",
    "        self.df_copy['generation_fossil_hard_coal'] = distances\n",
    "        \n",
    "        return self.df_copy"
   ]
  },
  {
   "cell_type": "code",
   "execution_count": 10,
   "metadata": {},
   "outputs": [],
   "source": [
    "distance_transform = distance_transform_generation_fossil_hard_coal(df_copy)\n",
    "df_copy = distance_transform.kmeans_transform()"
   ]
  },
  {
   "cell_type": "code",
   "execution_count": 11,
   "metadata": {},
   "outputs": [],
   "source": [
    "# generation_fossil_oil, eliminar valores atípicos\n",
    "def outliers_generation_fossil_oil(df_copy):\n",
    "    # Deteccion de atípicos \n",
    "    q1 = df_copy['generation_fossil_oil'].quantile(0.25)\n",
    "    q3 = df_copy['generation_fossil_oil'].quantile(0.75)\n",
    "    iqr = q3-q1\n",
    "    Lower_tail = q1 - 1.5 * iqr\n",
    "    Upper_tail = q3 + 1.5 * iqr\n",
    "\n",
    "    print('Antes de eliminar atípicos:',len(df_copy['generation_fossil_oil']))\n",
    "    \n",
    "    # Filtramos en pandas extrayendo los valores entre los quantiles\n",
    "    filtered_df = df_copy[(df_copy['generation_fossil_oil'] >= Lower_tail)&(df_copy['generation_fossil_oil'] <= Upper_tail)]\n",
    "\n",
    "    print('Despues de eliminar atípicos:',len(filtered_df))\n",
    "    return filtered_df"
   ]
  },
  {
   "cell_type": "code",
   "execution_count": 12,
   "metadata": {},
   "outputs": [
    {
     "name": "stdout",
     "output_type": "stream",
     "text": [
      "Antes de eliminar atípicos: 150578\n",
      "Despues de eliminar atípicos: 149702\n"
     ]
    }
   ],
   "source": [
    "df_copy=outliers_generation_fossil_oil(df_copy)"
   ]
  },
  {
   "cell_type": "code",
   "execution_count": 13,
   "metadata": {},
   "outputs": [],
   "source": [
    "# generation_hydro_pumped_storage_consumption, estratificar en dos categorias 0 y 1.\n",
    "def stratify_generation_hydro_pumped_storage_consumption(df_copy):\n",
    "    \"\"\" Si los valores de la variable son mayores que 0, el valor se modifica a 1.\n",
    "        En caso contrario, se mantienen en 0.\n",
    "    Args:\n",
    "        df_copy (Dataframe): copia de dataframe sin modificar valores\n",
    "\n",
    "    Returns:\n",
    "        Dataframe: dataframe modificado\n",
    "    \"\"\"\n",
    "    df_copy['generation_hydro_pumped_storage_consumption']=df_copy['generation_hydro_pumped_storage_consumption'].apply(lambda x: 1 if x > 0 else 0)\n",
    "    return df_copy"
   ]
  },
  {
   "cell_type": "code",
   "execution_count": 14,
   "metadata": {},
   "outputs": [
    {
     "name": "stderr",
     "output_type": "stream",
     "text": [
      "C:\\Users\\jarod\\AppData\\Local\\Temp\\ipykernel_3592\\4181933192.py:11: SettingWithCopyWarning: \n",
      "A value is trying to be set on a copy of a slice from a DataFrame.\n",
      "Try using .loc[row_indexer,col_indexer] = value instead\n",
      "\n",
      "See the caveats in the documentation: https://pandas.pydata.org/pandas-docs/stable/user_guide/indexing.html#returning-a-view-versus-a-copy\n",
      "  df_copy['generation_hydro_pumped_storage_consumption']=df_copy['generation_hydro_pumped_storage_consumption'].apply(lambda x: 1 if x > 0 else 0)\n"
     ]
    }
   ],
   "source": [
    "df_copy=stratify_generation_hydro_pumped_storage_consumption(df_copy)"
   ]
  },
  {
   "cell_type": "code",
   "execution_count": 15,
   "metadata": {},
   "outputs": [],
   "source": [
    "# generation_hydro_water_reservoir, transformación logarítmica\n",
    "def logarithm_generation_hydro_water_reservoirl(df_copy):\n",
    "    array1d = df_copy['generation_hydro_water_reservoir'].values\n",
    "    array2d = array1d.reshape(-1,1)\n",
    "    df_copy['generation_hydro_water_reservoir'] = power_transform(array2d, method='box-cox', standardize=False)\n",
    "    return df_copy"
   ]
  },
  {
   "cell_type": "code",
   "execution_count": 16,
   "metadata": {},
   "outputs": [
    {
     "name": "stderr",
     "output_type": "stream",
     "text": [
      "C:\\Users\\jarod\\AppData\\Local\\Temp\\ipykernel_3592\\441707379.py:5: SettingWithCopyWarning: \n",
      "A value is trying to be set on a copy of a slice from a DataFrame.\n",
      "Try using .loc[row_indexer,col_indexer] = value instead\n",
      "\n",
      "See the caveats in the documentation: https://pandas.pydata.org/pandas-docs/stable/user_guide/indexing.html#returning-a-view-versus-a-copy\n",
      "  df_copy['generation_hydro_water_reservoir'] = power_transform(array2d, method='box-cox', standardize=False)\n"
     ]
    }
   ],
   "source": [
    "df_copy = logarithm_generation_hydro_water_reservoirl(df_copy)"
   ]
  },
  {
   "cell_type": "code",
   "execution_count": 17,
   "metadata": {},
   "outputs": [],
   "source": [
    "# generation_nuclear, estratificar en dos categorias 0, 1, 2, 3.\n",
    "def stratify_generation_hydro_pumped_storage_consumption(df_copy):\n",
    "    \"\"\" Modus operandi:.\n",
    "        - el valor sera 0, si los MW son menores que 5000.\n",
    "        - el valor sera 1, si los MW son mayores o iguales que 5000 y menores de 6000.\n",
    "        - el valor sera 2, si los MW son mayores o iguales que 6000 y menores de 7000.\n",
    "        - el valor sera 3, si los MW son mayores o iguales a 7000.\n",
    "    Args:\n",
    "        df_copy (Dataframe): copia de dataframe sin modificar valores\n",
    "\n",
    "    Returns:\n",
    "        Dataframe: dataframe modificado\n",
    "    \"\"\"\n",
    "    bins = [0, 5000, 6000, 7000, float('inf')]\n",
    "    labels = [0, 1, 2, 3]\n",
    "    df_copy['generation_nuclear'] = pd.cut(df_copy['generation_nuclear'], bins=bins, labels=labels, right=False)\n",
    "    return df_copy"
   ]
  },
  {
   "cell_type": "code",
   "execution_count": 18,
   "metadata": {},
   "outputs": [
    {
     "name": "stderr",
     "output_type": "stream",
     "text": [
      "C:\\Users\\jarod\\AppData\\Local\\Temp\\ipykernel_3592\\3017078285.py:16: SettingWithCopyWarning: \n",
      "A value is trying to be set on a copy of a slice from a DataFrame.\n",
      "Try using .loc[row_indexer,col_indexer] = value instead\n",
      "\n",
      "See the caveats in the documentation: https://pandas.pydata.org/pandas-docs/stable/user_guide/indexing.html#returning-a-view-versus-a-copy\n",
      "  df_copy['generation_nuclear'] = pd.cut(df_copy['generation_nuclear'], bins=bins, labels=labels, right=False)\n"
     ]
    }
   ],
   "source": [
    "df_copy=stratify_generation_hydro_pumped_storage_consumption(df_copy)"
   ]
  },
  {
   "cell_type": "code",
   "execution_count": 19,
   "metadata": {},
   "outputs": [],
   "source": [
    "def gmm_generation_other(df_copy):\n",
    "    \"\"\"Convertir valores de variable a cluster según multiples modos, mediante gaussian mixture.\n",
    "\n",
    "    Args:\n",
    "        df_copy (DataFrame): dataframe si modificar\n",
    "\n",
    "    Returns:\n",
    "        DataFrame: dataframe con valores modificado\n",
    "    \"\"\"\n",
    "    # extraer columna\n",
    "    data = df_copy['generation_other'].values\n",
    "    data = data.reshape(-1,1)\n",
    "\n",
    "    # entrenar\n",
    "    gmm = GaussianMixture(n_components=3, n_init=10)\n",
    "    gmm.fit(data)\n",
    "\n",
    "    # predecir probabilidades\n",
    "    values = gmm.predict_proba(data).round(3)\n",
    "    values = np.argmax(values, axis=1)\n",
    "\n",
    "    df_copy['generation_other'] = values\n",
    "    return df_copy"
   ]
  },
  {
   "cell_type": "code",
   "execution_count": 20,
   "metadata": {},
   "outputs": [
    {
     "name": "stderr",
     "output_type": "stream",
     "text": [
      "C:\\Users\\jarod\\AppData\\Local\\Temp\\ipykernel_3592\\1312073854.py:22: SettingWithCopyWarning: \n",
      "A value is trying to be set on a copy of a slice from a DataFrame.\n",
      "Try using .loc[row_indexer,col_indexer] = value instead\n",
      "\n",
      "See the caveats in the documentation: https://pandas.pydata.org/pandas-docs/stable/user_guide/indexing.html#returning-a-view-versus-a-copy\n",
      "  df_copy['generation_other'] = values\n"
     ]
    }
   ],
   "source": [
    "df_copy =  gmm_generation_other(df_copy)"
   ]
  },
  {
   "cell_type": "code",
   "execution_count": 21,
   "metadata": {},
   "outputs": [],
   "source": [
    "def gmm_generation_other_renewable(df_copy):\n",
    "    \"\"\"Convertir valores de variable a cluster según multiples modos, mediante gaussian mixture.\n",
    "\n",
    "    Args:\n",
    "        df_copy (DataFrame): dataframe si modificar\n",
    "\n",
    "    Returns:\n",
    "        DataFrame: dataframe con valores modificado\n",
    "    \"\"\"\n",
    "    # extraer columna\n",
    "    data = df_copy['generation_other_renewable'].values\n",
    "    data = data.reshape(-1,1)\n",
    "\n",
    "    # entrenar\n",
    "    gmm = GaussianMixture(n_components=2, n_init=10)\n",
    "    gmm.fit(data)\n",
    "\n",
    "    # predecir probabilidades\n",
    "    values = gmm.predict_proba(data).round(3)\n",
    "    values = np.argmax(values, axis=1)\n",
    "\n",
    "    df_copy['generation_other_renewable'] = values\n",
    "    return df_copy"
   ]
  },
  {
   "cell_type": "code",
   "execution_count": 22,
   "metadata": {},
   "outputs": [
    {
     "name": "stderr",
     "output_type": "stream",
     "text": [
      "C:\\Users\\jarod\\AppData\\Local\\Temp\\ipykernel_3592\\2981806644.py:22: SettingWithCopyWarning: \n",
      "A value is trying to be set on a copy of a slice from a DataFrame.\n",
      "Try using .loc[row_indexer,col_indexer] = value instead\n",
      "\n",
      "See the caveats in the documentation: https://pandas.pydata.org/pandas-docs/stable/user_guide/indexing.html#returning-a-view-versus-a-copy\n",
      "  df_copy['generation_other_renewable'] = values\n"
     ]
    }
   ],
   "source": [
    "df_copy =  gmm_generation_other_renewable(df_copy)"
   ]
  },
  {
   "cell_type": "code",
   "execution_count": 23,
   "metadata": {},
   "outputs": [],
   "source": [
    "# generation_solar, estratificar en dos categorias 0 y 1.\n",
    "def stratify_generation_solar(df_copy):\n",
    "    \"\"\" Si los valores de la variable son menores que 600, el valor se modifica a 0.\n",
    "        En caso contrario, se mantienen en 1.\n",
    "    Args:\n",
    "        df_copy (Dataframe): copia de dataframe sin modificar valores\n",
    "\n",
    "    Returns:\n",
    "        Dataframe: dataframe modificado\n",
    "    \"\"\"\n",
    "    df_copy['generation_solar']=df_copy['generation_solar'].apply(lambda x: 0 if x < 600 else 1)\n",
    "    return df_copy"
   ]
  },
  {
   "cell_type": "code",
   "execution_count": 24,
   "metadata": {},
   "outputs": [
    {
     "name": "stderr",
     "output_type": "stream",
     "text": [
      "C:\\Users\\jarod\\AppData\\Local\\Temp\\ipykernel_3592\\3135399830.py:11: SettingWithCopyWarning: \n",
      "A value is trying to be set on a copy of a slice from a DataFrame.\n",
      "Try using .loc[row_indexer,col_indexer] = value instead\n",
      "\n",
      "See the caveats in the documentation: https://pandas.pydata.org/pandas-docs/stable/user_guide/indexing.html#returning-a-view-versus-a-copy\n",
      "  df_copy['generation_solar']=df_copy['generation_solar'].apply(lambda x: 0 if x < 600 else 1)\n"
     ]
    }
   ],
   "source": [
    "df_copy=stratify_generation_solar(df_copy)"
   ]
  },
  {
   "cell_type": "code",
   "execution_count": 25,
   "metadata": {},
   "outputs": [],
   "source": [
    "# generation_wind_onshore, transformación logarítmica\n",
    "def logarithm_generation_wind_onshore(df_copy):\n",
    "    array1d = df_copy['generation_wind_onshore'].values\n",
    "    array2d = array1d.reshape(-1,1)\n",
    "    df_copy['generation_wind_onshore'] = power_transform(array2d, method='box-cox', standardize=False)\n",
    "    return df_copy"
   ]
  },
  {
   "cell_type": "code",
   "execution_count": 26,
   "metadata": {},
   "outputs": [
    {
     "name": "stderr",
     "output_type": "stream",
     "text": [
      "C:\\Users\\jarod\\AppData\\Local\\Temp\\ipykernel_3592\\1914367388.py:5: SettingWithCopyWarning: \n",
      "A value is trying to be set on a copy of a slice from a DataFrame.\n",
      "Try using .loc[row_indexer,col_indexer] = value instead\n",
      "\n",
      "See the caveats in the documentation: https://pandas.pydata.org/pandas-docs/stable/user_guide/indexing.html#returning-a-view-versus-a-copy\n",
      "  df_copy['generation_wind_onshore'] = power_transform(array2d, method='box-cox', standardize=False)\n"
     ]
    }
   ],
   "source": [
    "df_copy=logarithm_generation_wind_onshore(df_copy)"
   ]
  },
  {
   "cell_type": "code",
   "execution_count": 27,
   "metadata": {},
   "outputs": [],
   "source": [
    "# Funcion que extrae los grupos de generation_biomass\n",
    "def transform_generation_biomass_gmm(filtered_df):\n",
    "    data = filtered_df['generation_biomass'].values\n",
    "    data = data.reshape(-1,1)\n",
    "\n",
    "    # entrenar\n",
    "    gmm = GaussianMixture(n_components=3, n_init=10)\n",
    "    gmm.fit(data)\n",
    "\n",
    "    # predecir probabilidades\n",
    "    values = gmm.predict_proba(data).round(3)\n",
    "    values = np.argmax(values, axis=1)\n",
    "\n",
    "    filtered_df['generation_biomass'] = values\n",
    "    return filtered_df"
   ]
  },
  {
   "cell_type": "code",
   "execution_count": 28,
   "metadata": {},
   "outputs": [],
   "source": [
    "# Funcion que elimina atípicos de generation_biomass\n",
    "def transform_generation_biomass_out(df_copy):\n",
    "    q1 = df_copy['generation_biomass'].quantile(0.25)\n",
    "    q3 = df_copy['generation_biomass'].quantile(0.75)\n",
    "    iqr = q3-q1\n",
    "    Lower_tail = q1 - 1.5 * iqr\n",
    "    Upper_tail = q3 + 1.5 * iqr\n",
    "\n",
    "    print('Antes de eliminar atípicos:',len(df_copy['generation_biomass']))\n",
    "        \n",
    "    # Filtramos en pandas extrayendo los valores entre los quantiles\n",
    "    filtered_df = df_copy[(df_copy['generation_biomass'] >= Lower_tail)&(df_copy['generation_biomass'] <= Upper_tail)]\n",
    "\n",
    "    print('Despues de eliminar atípicos:',len(filtered_df))\n",
    "\n",
    "    return transform_generation_biomass_gmm(filtered_df)"
   ]
  },
  {
   "cell_type": "code",
   "execution_count": 29,
   "metadata": {},
   "outputs": [
    {
     "name": "stdout",
     "output_type": "stream",
     "text": [
      "Antes de eliminar atípicos: 149702\n",
      "Despues de eliminar atípicos: 149687\n"
     ]
    },
    {
     "name": "stderr",
     "output_type": "stream",
     "text": [
      "C:\\Users\\jarod\\AppData\\Local\\Temp\\ipykernel_3592\\2635199354.py:14: SettingWithCopyWarning: \n",
      "A value is trying to be set on a copy of a slice from a DataFrame.\n",
      "Try using .loc[row_indexer,col_indexer] = value instead\n",
      "\n",
      "See the caveats in the documentation: https://pandas.pydata.org/pandas-docs/stable/user_guide/indexing.html#returning-a-view-versus-a-copy\n",
      "  filtered_df['generation_biomass'] = values\n"
     ]
    }
   ],
   "source": [
    "df_copy=transform_generation_biomass_out(df_copy)"
   ]
  },
  {
   "cell_type": "markdown",
   "metadata": {},
   "source": [
    "**Transformaciones y procesamiento variables tiempo**"
   ]
  }
 ],
 "metadata": {
  "kernelspec": {
   "display_name": "Python 3",
   "language": "python",
   "name": "python3"
  },
  "language_info": {
   "codemirror_mode": {
    "name": "ipython",
    "version": 3
   },
   "file_extension": ".py",
   "mimetype": "text/x-python",
   "name": "python",
   "nbconvert_exporter": "python",
   "pygments_lexer": "ipython3",
   "version": "3.11.7"
  }
 },
 "nbformat": 4,
 "nbformat_minor": 2
}
