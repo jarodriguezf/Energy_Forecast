{
 "cells": [
  {
   "cell_type": "code",
   "execution_count": 2,
   "metadata": {},
   "outputs": [],
   "source": [
    "import pandas as pd\n",
    "import numpy as np\n",
    "from sklearn.model_selection import train_test_split\n",
    "pd.options.display.max_columns = None"
   ]
  },
  {
   "cell_type": "code",
   "execution_count": 3,
   "metadata": {},
   "outputs": [],
   "source": [
    "df_energy = pd.read_parquet('../../data_parquet/energy.parquet')\n",
    "df_weather = pd.read_parquet('../../data_parquet/weather.parquet')"
   ]
  },
  {
   "cell_type": "code",
   "execution_count": 4,
   "metadata": {},
   "outputs": [],
   "source": [
    "df_energy.drop('id', axis=1, inplace=True)\n",
    "df_weather.drop('id', axis=1, inplace=True)"
   ]
  },
  {
   "cell_type": "code",
   "execution_count": 5,
   "metadata": {},
   "outputs": [],
   "source": [
    "# Fusionamos ambos dataset\n",
    "df_merged = df_energy.merge(df_weather, how='right', on='time_hourly')"
   ]
  },
  {
   "cell_type": "code",
   "execution_count": 6,
   "metadata": {},
   "outputs": [
    {
     "name": "stdout",
     "output_type": "stream",
     "text": [
      "<class 'pandas.core.frame.DataFrame'>\n",
      "RangeIndex: 178405 entries, 0 to 178404\n",
      "Data columns (total 38 columns):\n",
      " #   Column                                       Non-Null Count   Dtype         \n",
      "---  ------                                       --------------   -----         \n",
      " 0   time_hourly                                  178405 non-null  datetime64[ns]\n",
      " 1   generation_biomass                           178405 non-null  int64         \n",
      " 2   generation_fossil_brown_coal_lignite         178405 non-null  int64         \n",
      " 3   generation_fossil_coal_derived_gas           178405 non-null  int64         \n",
      " 4   generation_fossil_gas                        178405 non-null  int64         \n",
      " 5   generation_fossil_hard_coal                  178405 non-null  int64         \n",
      " 6   generation_fossil_oil                        178405 non-null  int64         \n",
      " 7   generation_fossil_oil_shale                  178405 non-null  int64         \n",
      " 8   generation_fossil_peat                       178405 non-null  int64         \n",
      " 9   generation_geothermal                        178405 non-null  int64         \n",
      " 10  generation_hydro_pumped_storage_consumption  178405 non-null  int64         \n",
      " 11  generation_hydro_run_of_river_and_poundage   178405 non-null  int64         \n",
      " 12  generation_hydro_water_reservoir             178405 non-null  int64         \n",
      " 13  generation_marine                            178405 non-null  int64         \n",
      " 14  generation_nuclear                           178405 non-null  int64         \n",
      " 15  generation_other                             178405 non-null  int64         \n",
      " 16  generation_other_renewable                   178405 non-null  int64         \n",
      " 17  generation_solar                             178405 non-null  int64         \n",
      " 18  generation_waste                             178405 non-null  int64         \n",
      " 19  generation_wind_offshore                     178405 non-null  int64         \n",
      " 20  generation_wind_onshore                      178405 non-null  int64         \n",
      " 21  total_load_actual                            178405 non-null  int64         \n",
      " 22  price_actual                                 178405 non-null  float64       \n",
      " 23  city_name                                    178405 non-null  object        \n",
      " 24  temp                                         178405 non-null  float64       \n",
      " 25  temp_min                                     178405 non-null  float64       \n",
      " 26  temp_max                                     178405 non-null  float64       \n",
      " 27  pressure                                     178405 non-null  int64         \n",
      " 28  humidity                                     178405 non-null  int64         \n",
      " 29  wind_speed                                   178405 non-null  float64       \n",
      " 30  wind_deg                                     178405 non-null  int64         \n",
      " 31  rain_1h                                      178405 non-null  int64         \n",
      " 32  rain_3h                                      178405 non-null  int64         \n",
      " 33  snow_3h                                      178405 non-null  int64         \n",
      " 34  clouds_all                                   178405 non-null  int64         \n",
      " 35  weather_id                                   178405 non-null  int64         \n",
      " 36  weather_main                                 178405 non-null  object        \n",
      " 37  weather_icon                                 178405 non-null  object        \n",
      "dtypes: datetime64[ns](1), float64(5), int64(29), object(3)\n",
      "memory usage: 51.7+ MB\n"
     ]
    }
   ],
   "source": [
    "df_merged.info()"
   ]
  },
  {
   "cell_type": "code",
   "execution_count": 7,
   "metadata": {},
   "outputs": [],
   "source": [
    "# Separamos en conjunto de prueba y entrenamiento\n",
    "df_train, df_test = train_test_split(df_merged, test_size=0.1, random_state=42)"
   ]
  },
  {
   "cell_type": "code",
   "execution_count": 8,
   "metadata": {},
   "outputs": [
    {
     "name": "stdout",
     "output_type": "stream",
     "text": [
      "Longitud conjunto de entrenamiento 160564\n",
      "Longitud conjunto de prueba 17841\n"
     ]
    }
   ],
   "source": [
    "print('Longitud conjunto de entrenamiento',len(df_train))\n",
    "print('Longitud conjunto de prueba',len(df_test))"
   ]
  },
  {
   "cell_type": "code",
   "execution_count": 12,
   "metadata": {},
   "outputs": [],
   "source": [
    "df_train.to_parquet('../../data_parquet/train_data.parquet', index=False)\n",
    "df_test.to_parquet('../../data_parquet/test_data.parquet', index=False)"
   ]
  }
 ],
 "metadata": {
  "kernelspec": {
   "display_name": "Python 3",
   "language": "python",
   "name": "python3"
  },
  "language_info": {
   "codemirror_mode": {
    "name": "ipython",
    "version": 3
   },
   "file_extension": ".py",
   "mimetype": "text/x-python",
   "name": "python",
   "nbconvert_exporter": "python",
   "pygments_lexer": "ipython3",
   "version": "3.11.7"
  }
 },
 "nbformat": 4,
 "nbformat_minor": 2
}
