{
 "cells": [
  {
   "cell_type": "code",
   "execution_count": 1,
   "metadata": {},
   "outputs": [],
   "source": [
    "import pandas as pd\n",
    "import numpy as np\n",
    "from sklearn.cluster import KMeans\n",
    "from sklearn.preprocessing import power_transform, StandardScaler\n",
    "from sklearn.mixture import GaussianMixture"
   ]
  },
  {
   "cell_type": "code",
   "execution_count": 2,
   "metadata": {},
   "outputs": [],
   "source": [
    "df = pd.read_parquet('../../data_parquet/train_data.parquet')\n",
    "df_copy = df.copy()"
   ]
  },
  {
   "cell_type": "markdown",
   "metadata": {},
   "source": [
    "**Procesamos las columnas con mayor significancia (Baseline) en base al precio**"
   ]
  },
  {
   "cell_type": "code",
   "execution_count": 3,
   "metadata": {},
   "outputs": [],
   "source": [
    "df_copy = df_copy[['generation_fossil_gas','generation_fossil_hard_coal','total_load_actual',\n",
    "                   'generation_nuclear','generation_hydro_run_of_river_and_poundage',\n",
    "                   'generation_other_renewable','generation_waste','generation_fossil_oil',\n",
    "                   'generation_other','generation_hydro_water_reservoir','generation_biomass',\n",
    "                   'generation_solar','pressure','generation_wind_onshore','generation_hydro_pumped_storage_consumption',\n",
    "                   'generation_fossil_brown_coal_lignite','temp_min','wind_speed','temp','temp_max',\n",
    "                   'price_actual', 'time_hourly']]"
   ]
  },
  {
   "cell_type": "code",
   "execution_count": 4,
   "metadata": {},
   "outputs": [],
   "source": [
    "def lag_price_date(df_copy):\n",
    "    df_copy['lag_1'] = df_copy['price_actual'].shift(1)\n",
    "    df_copy['lag_2'] = df_copy['price_actual'].shift(2)\n",
    "    df_copy['lag_3'] = df_copy['price_actual'].shift(3)\n",
    "    df_copy.dropna(inplace=True)\n",
    "    return df_copy"
   ]
  },
  {
   "cell_type": "code",
   "execution_count": 5,
   "metadata": {},
   "outputs": [],
   "source": [
    "df_copy = lag_price_date(df_copy)"
   ]
  },
  {
   "cell_type": "code",
   "execution_count": 8,
   "metadata": {},
   "outputs": [],
   "source": [
    "def diff_price_date(df_copy):\n",
    "    df_copy['diff_1'] = df_copy['price_actual'].diff(1)\n",
    "    df_copy['diff_2'] = df_copy['price_actual'].diff(2)\n",
    "    df_copy.dropna(inplace=True)\n",
    "    return df_copy"
   ]
  },
  {
   "cell_type": "code",
   "execution_count": 9,
   "metadata": {},
   "outputs": [],
   "source": [
    "df_copy = diff_price_date(df_copy)"
   ]
  },
  {
   "cell_type": "code",
   "execution_count": 11,
   "metadata": {},
   "outputs": [],
   "source": [
    "def rolling_mean(df_copy):\n",
    "    df_copy['rolling_mean_3'] = df_copy['price_actual'].rolling(window=3).mean()\n",
    "    df_copy['rolling_mean_7'] = df_copy['price_actual'].rolling(window=7).mean()\n",
    "    df_copy.dropna(inplace=True)\n",
    "    return df_copy"
   ]
  },
  {
   "cell_type": "code",
   "execution_count": 12,
   "metadata": {},
   "outputs": [],
   "source": [
    "df_copy = rolling_mean(df_copy)"
   ]
  },
  {
   "cell_type": "code",
   "execution_count": 4,
   "metadata": {},
   "outputs": [],
   "source": [
    "# generation_fossil_gas, eliminar valores atípicos\n",
    "def outliers_generation_fossil_gas(df_copy):\n",
    "    # Deteccion de atípicos \n",
    "    q1 = df_copy['generation_fossil_gas'].quantile(0.25)\n",
    "    q3 = df_copy['generation_fossil_gas'].quantile(0.75)\n",
    "    iqr = q3-q1\n",
    "    Lower_tail = q1 - 1.5 * iqr\n",
    "    Upper_tail = q3 + 1.5 * iqr\n",
    "\n",
    "    print('Antes de eliminar atípicos:',len(df_copy['generation_fossil_gas']))\n",
    "    \n",
    "    # Filtramos en pandas extrayendo los valores entre los quantiles\n",
    "    filtered_df = df_copy[(df_copy['generation_fossil_gas'] >= Lower_tail)&(df_copy['generation_fossil_gas'] <= Upper_tail)]\n",
    "\n",
    "    print('Despues de eliminar atípicos:',len(filtered_df))\n",
    "    return filtered_df"
   ]
  },
  {
   "cell_type": "code",
   "execution_count": 5,
   "metadata": {},
   "outputs": [
    {
     "name": "stdout",
     "output_type": "stream",
     "text": [
      "Antes de eliminar atípicos: 160564\n",
      "Despues de eliminar atípicos: 150578\n"
     ]
    }
   ],
   "source": [
    "df_copy=outliers_generation_fossil_gas(df_copy)"
   ]
  },
  {
   "cell_type": "code",
   "execution_count": 8,
   "metadata": {},
   "outputs": [],
   "source": [
    "# Clase perteneciente a generation_fossil_hard_coal, kmeans y transformacion por distancias al centroide\n",
    "class distance_transform_generation_fossil_hard_coal:\n",
    "    def __init__(self, df_copy):\n",
    "        self.df_copy = df_copy\n",
    "    \n",
    "    def scaler(self):\n",
    "        scaler = StandardScaler()\n",
    "        df_copy['generation_fossil_hard_coal']=scaler.fit_transform(self.df_copy[['generation_fossil_hard_coal']])\n",
    "        return self.df_copy\n",
    "\n",
    "    def kmeans_transform(self):\n",
    "        self.scaler() # Escalamos en funcion\n",
    "        # Clustering\n",
    "        kmeans = KMeans(n_clusters=2, random_state=42)\n",
    "        kmeans.fit(self.df_copy[['generation_fossil_hard_coal']])\n",
    "\n",
    "        # Extraemos distancias\n",
    "        distances = kmeans.transform(self.df_copy[['generation_fossil_hard_coal']])\n",
    "\n",
    "        # Añadimos a la columna los nuevos valores\n",
    "        self.df_copy['generation_fossil_hard_coal'] = distances\n",
    "        \n",
    "        return self.df_copy"
   ]
  },
  {
   "cell_type": "code",
   "execution_count": 9,
   "metadata": {},
   "outputs": [],
   "source": [
    "distance_transform = distance_transform_generation_fossil_hard_coal(df_copy)\n",
    "df_copy = distance_transform.kmeans_transform()"
   ]
  },
  {
   "cell_type": "code",
   "execution_count": 18,
   "metadata": {},
   "outputs": [],
   "source": [
    "def gmm_total_load_actual(df_copy):\n",
    "    data = df_copy['total_load_actual'].values.reshape(-1, 1)\n",
    "    \n",
    "    # Ajustar el Modelo de Mezcla Gaussiana\n",
    "    gm = GaussianMixture(n_components=2, random_state=0).fit(data)\n",
    "    labels = gm.predict(data)\n",
    "\n",
    "    df_copy['total_load_actual'] = labels\n",
    "    return df_copy"
   ]
  },
  {
   "cell_type": "code",
   "execution_count": 19,
   "metadata": {},
   "outputs": [],
   "source": [
    "df_copy = gmm_total_load_actual(df_copy)"
   ]
  },
  {
   "cell_type": "code",
   "execution_count": 21,
   "metadata": {},
   "outputs": [],
   "source": [
    "# generation_hydro_water_reservoir, transformación logarítmica\n",
    "def logarithm_generation_hydro_run_of_river_and_poundage(df_copy):\n",
    "    array1d = df_copy['generation_hydro_run_of_river_and_poundage'].values\n",
    "    array2d = array1d.reshape(-1,1)\n",
    "    df_copy['generation_hydro_run_of_river_and_poundage'] = power_transform(array2d, method='yeo-johnson', standardize=False)\n",
    "    return df_copy"
   ]
  },
  {
   "cell_type": "code",
   "execution_count": 22,
   "metadata": {},
   "outputs": [],
   "source": [
    "df_copy = logarithm_generation_hydro_run_of_river_and_poundage(df_copy)"
   ]
  },
  {
   "cell_type": "code",
   "execution_count": 25,
   "metadata": {},
   "outputs": [],
   "source": [
    "def gmm_generation_other_renewable(df_copy):\n",
    "    data = df_copy['generation_other_renewable'].values.reshape(-1, 1)\n",
    "    \n",
    "    # Ajustar el Modelo de Mezcla Gaussiana\n",
    "    gm = GaussianMixture(n_components=2, random_state=0).fit(data)\n",
    "    labels = gm.predict(data)\n",
    "\n",
    "    df_copy['generation_other_renewable'] = labels\n",
    "    return df_copy"
   ]
  },
  {
   "cell_type": "code",
   "execution_count": 26,
   "metadata": {},
   "outputs": [],
   "source": [
    "df_copy = gmm_generation_other_renewable(df_copy)"
   ]
  },
  {
   "cell_type": "code",
   "execution_count": 27,
   "metadata": {},
   "outputs": [],
   "source": [
    "# generation_waste, transformación logarítmica\n",
    "def logarithm_generation_waste(df_copy):\n",
    "    array1d = df_copy['generation_waste'].values\n",
    "    array2d = array1d.reshape(-1,1)\n",
    "    df_copy['generation_waste'] = power_transform(array2d, method='yeo-johnson', standardize=False)\n",
    "    return df_copy"
   ]
  },
  {
   "cell_type": "code",
   "execution_count": 28,
   "metadata": {},
   "outputs": [],
   "source": [
    "df_copy=logarithm_generation_waste(df_copy)"
   ]
  },
  {
   "cell_type": "code",
   "execution_count": 30,
   "metadata": {},
   "outputs": [],
   "source": [
    "# generation_fossil_oil, eliminar valores atípicos\n",
    "def outliers_generation_fossil_oil(df_copy):\n",
    "    # Deteccion de atípicos \n",
    "    q1 = df_copy['generation_fossil_oil'].quantile(0.25)\n",
    "    q3 = df_copy['generation_fossil_oil'].quantile(0.75)\n",
    "    iqr = q3-q1\n",
    "    Lower_tail = q1 - 1.5 * iqr\n",
    "    Upper_tail = q3 + 1.5 * iqr\n",
    "\n",
    "    print('Antes de eliminar atípicos:',len(df_copy['generation_fossil_oil']))\n",
    "    \n",
    "    # Filtramos en pandas extrayendo los valores entre los quantiles\n",
    "    filtered_df = df_copy[(df_copy['generation_fossil_oil'] >= Lower_tail)&(df_copy['generation_fossil_oil'] <= Upper_tail)]\n",
    "\n",
    "    print('Despues de eliminar atípicos:',len(filtered_df))\n",
    "    return filtered_df"
   ]
  },
  {
   "cell_type": "code",
   "execution_count": 31,
   "metadata": {},
   "outputs": [
    {
     "name": "stdout",
     "output_type": "stream",
     "text": [
      "Antes de eliminar atípicos: 150578\n",
      "Despues de eliminar atípicos: 149702\n"
     ]
    }
   ],
   "source": [
    "df_copy = outliers_generation_fossil_oil(df_copy)"
   ]
  },
  {
   "cell_type": "code",
   "execution_count": 32,
   "metadata": {},
   "outputs": [],
   "source": [
    "def gmm_generation_other(df_copy):\n",
    "    data = df_copy['generation_other'].values.reshape(-1, 1)\n",
    "    \n",
    "    # Ajustar el Modelo de Mezcla Gaussiana\n",
    "    gm = GaussianMixture(n_components=3, random_state=0).fit(data)\n",
    "    labels = gm.predict(data)\n",
    "\n",
    "    df_copy['generation_other'] = labels\n",
    "    return df_copy"
   ]
  },
  {
   "cell_type": "code",
   "execution_count": 33,
   "metadata": {},
   "outputs": [
    {
     "name": "stderr",
     "output_type": "stream",
     "text": [
      "C:\\Users\\jarod\\AppData\\Local\\Temp\\ipykernel_17072\\1061446474.py:8: SettingWithCopyWarning: \n",
      "A value is trying to be set on a copy of a slice from a DataFrame.\n",
      "Try using .loc[row_indexer,col_indexer] = value instead\n",
      "\n",
      "See the caveats in the documentation: https://pandas.pydata.org/pandas-docs/stable/user_guide/indexing.html#returning-a-view-versus-a-copy\n",
      "  df_copy['generation_other'] = labels\n"
     ]
    }
   ],
   "source": [
    "df_copy = gmm_generation_other(df_copy)"
   ]
  },
  {
   "cell_type": "code",
   "execution_count": 35,
   "metadata": {},
   "outputs": [],
   "source": [
    "# generation_hydro_water_reservoir, transformación logarítmica\n",
    "def logarithm_generation_hydro_water_reservoirl(df_copy):\n",
    "    array1d = df_copy['generation_hydro_water_reservoir'].values\n",
    "    array2d = array1d.reshape(-1,1)\n",
    "    df_copy['generation_hydro_water_reservoir'] = power_transform(array2d, method='box-cox', standardize=False)\n",
    "    return df_copy"
   ]
  },
  {
   "cell_type": "code",
   "execution_count": 36,
   "metadata": {},
   "outputs": [
    {
     "name": "stderr",
     "output_type": "stream",
     "text": [
      "C:\\Users\\jarod\\AppData\\Local\\Temp\\ipykernel_17072\\441707379.py:5: SettingWithCopyWarning: \n",
      "A value is trying to be set on a copy of a slice from a DataFrame.\n",
      "Try using .loc[row_indexer,col_indexer] = value instead\n",
      "\n",
      "See the caveats in the documentation: https://pandas.pydata.org/pandas-docs/stable/user_guide/indexing.html#returning-a-view-versus-a-copy\n",
      "  df_copy['generation_hydro_water_reservoir'] = power_transform(array2d, method='box-cox', standardize=False)\n"
     ]
    }
   ],
   "source": [
    "df_copy = logarithm_generation_hydro_water_reservoirl(df_copy)"
   ]
  },
  {
   "cell_type": "code",
   "execution_count": 38,
   "metadata": {},
   "outputs": [],
   "source": [
    "# generation_wind_onshore, transformación logarítmica\n",
    "def logarithm_generation_wind_onshore(df_copy):\n",
    "    array1d = df_copy['generation_wind_onshore'].values\n",
    "    array2d = array1d.reshape(-1,1)\n",
    "    df_copy['generation_wind_onshore'] = power_transform(array2d, method='yeo-johnson', standardize=False)\n",
    "    return df_copy"
   ]
  },
  {
   "cell_type": "code",
   "execution_count": 39,
   "metadata": {},
   "outputs": [
    {
     "name": "stderr",
     "output_type": "stream",
     "text": [
      "C:\\Users\\jarod\\AppData\\Local\\Temp\\ipykernel_17072\\43134623.py:5: SettingWithCopyWarning: \n",
      "A value is trying to be set on a copy of a slice from a DataFrame.\n",
      "Try using .loc[row_indexer,col_indexer] = value instead\n",
      "\n",
      "See the caveats in the documentation: https://pandas.pydata.org/pandas-docs/stable/user_guide/indexing.html#returning-a-view-versus-a-copy\n",
      "  df_copy['generation_wind_onshore'] = power_transform(array2d, method='yeo-johnson', standardize=False)\n"
     ]
    }
   ],
   "source": [
    "df_copy = logarithm_generation_wind_onshore(df_copy)"
   ]
  },
  {
   "cell_type": "code",
   "execution_count": 40,
   "metadata": {},
   "outputs": [
    {
     "data": {
      "text/html": [
       "<div>\n",
       "<style scoped>\n",
       "    .dataframe tbody tr th:only-of-type {\n",
       "        vertical-align: middle;\n",
       "    }\n",
       "\n",
       "    .dataframe tbody tr th {\n",
       "        vertical-align: top;\n",
       "    }\n",
       "\n",
       "    .dataframe thead th {\n",
       "        text-align: right;\n",
       "    }\n",
       "</style>\n",
       "<table border=\"1\" class=\"dataframe\">\n",
       "  <thead>\n",
       "    <tr style=\"text-align: right;\">\n",
       "      <th></th>\n",
       "      <th>generation_fossil_gas</th>\n",
       "      <th>generation_fossil_hard_coal</th>\n",
       "      <th>total_load_actual</th>\n",
       "      <th>generation_nuclear</th>\n",
       "      <th>generation_hydro_run_of_river_and_poundage</th>\n",
       "      <th>generation_other_renewable</th>\n",
       "      <th>generation_waste</th>\n",
       "      <th>generation_fossil_oil</th>\n",
       "      <th>generation_other</th>\n",
       "      <th>generation_hydro_water_reservoir</th>\n",
       "      <th>generation_biomass</th>\n",
       "      <th>generation_solar</th>\n",
       "      <th>pressure</th>\n",
       "      <th>generation_wind_onshore</th>\n",
       "      <th>generation_hydro_pumped_storage_consumption</th>\n",
       "      <th>generation_fossil_brown_coal_lignite</th>\n",
       "      <th>temp_min</th>\n",
       "      <th>wind_speed</th>\n",
       "      <th>temp</th>\n",
       "      <th>temp_max</th>\n",
       "    </tr>\n",
       "  </thead>\n",
       "  <tbody>\n",
       "    <tr>\n",
       "      <th>0</th>\n",
       "      <td>3836</td>\n",
       "      <td>1.538978</td>\n",
       "      <td>0</td>\n",
       "      <td>5064</td>\n",
       "      <td>20.123681</td>\n",
       "      <td>0</td>\n",
       "      <td>9.887789e+05</td>\n",
       "      <td>284</td>\n",
       "      <td>0</td>\n",
       "      <td>16.372457</td>\n",
       "      <td>372</td>\n",
       "      <td>56</td>\n",
       "      <td>1018</td>\n",
       "      <td>55.519595</td>\n",
       "      <td>1</td>\n",
       "      <td>463</td>\n",
       "      <td>14.0</td>\n",
       "      <td>3.6</td>\n",
       "      <td>15.2</td>\n",
       "      <td>17.0</td>\n",
       "    </tr>\n",
       "    <tr>\n",
       "      <th>1</th>\n",
       "      <td>4345</td>\n",
       "      <td>1.465943</td>\n",
       "      <td>0</td>\n",
       "      <td>6727</td>\n",
       "      <td>17.001332</td>\n",
       "      <td>1</td>\n",
       "      <td>1.039426e+06</td>\n",
       "      <td>284</td>\n",
       "      <td>1</td>\n",
       "      <td>15.990127</td>\n",
       "      <td>572</td>\n",
       "      <td>3155</td>\n",
       "      <td>1017</td>\n",
       "      <td>55.127503</td>\n",
       "      <td>1473</td>\n",
       "      <td>203</td>\n",
       "      <td>23.0</td>\n",
       "      <td>3.6</td>\n",
       "      <td>28.5</td>\n",
       "      <td>40.0</td>\n",
       "    </tr>\n",
       "    <tr>\n",
       "      <th>2</th>\n",
       "      <td>4078</td>\n",
       "      <td>0.390265</td>\n",
       "      <td>1</td>\n",
       "      <td>7103</td>\n",
       "      <td>21.075366</td>\n",
       "      <td>0</td>\n",
       "      <td>1.269682e+06</td>\n",
       "      <td>324</td>\n",
       "      <td>0</td>\n",
       "      <td>21.918898</td>\n",
       "      <td>274</td>\n",
       "      <td>4111</td>\n",
       "      <td>1026</td>\n",
       "      <td>63.440782</td>\n",
       "      <td>192</td>\n",
       "      <td>0</td>\n",
       "      <td>14.0</td>\n",
       "      <td>10.8</td>\n",
       "      <td>15.0</td>\n",
       "      <td>16.0</td>\n",
       "    </tr>\n",
       "    <tr>\n",
       "      <th>3</th>\n",
       "      <td>7496</td>\n",
       "      <td>2.156171</td>\n",
       "      <td>1</td>\n",
       "      <td>6081</td>\n",
       "      <td>21.328854</td>\n",
       "      <td>0</td>\n",
       "      <td>1.691404e+06</td>\n",
       "      <td>362</td>\n",
       "      <td>0</td>\n",
       "      <td>21.770474</td>\n",
       "      <td>277</td>\n",
       "      <td>16</td>\n",
       "      <td>1017</td>\n",
       "      <td>66.081575</td>\n",
       "      <td>0</td>\n",
       "      <td>622</td>\n",
       "      <td>27.0</td>\n",
       "      <td>10.8</td>\n",
       "      <td>27.0</td>\n",
       "      <td>27.0</td>\n",
       "    </tr>\n",
       "    <tr>\n",
       "      <th>4</th>\n",
       "      <td>5167</td>\n",
       "      <td>0.118700</td>\n",
       "      <td>1</td>\n",
       "      <td>6838</td>\n",
       "      <td>16.865613</td>\n",
       "      <td>0</td>\n",
       "      <td>1.316829e+06</td>\n",
       "      <td>250</td>\n",
       "      <td>2</td>\n",
       "      <td>15.416567</td>\n",
       "      <td>347</td>\n",
       "      <td>2987</td>\n",
       "      <td>1010</td>\n",
       "      <td>67.090034</td>\n",
       "      <td>912</td>\n",
       "      <td>393</td>\n",
       "      <td>33.0</td>\n",
       "      <td>10.8</td>\n",
       "      <td>33.4</td>\n",
       "      <td>34.0</td>\n",
       "    </tr>\n",
       "  </tbody>\n",
       "</table>\n",
       "</div>"
      ],
      "text/plain": [
       "   generation_fossil_gas  generation_fossil_hard_coal  total_load_actual  \\\n",
       "0                   3836                     1.538978                  0   \n",
       "1                   4345                     1.465943                  0   \n",
       "2                   4078                     0.390265                  1   \n",
       "3                   7496                     2.156171                  1   \n",
       "4                   5167                     0.118700                  1   \n",
       "\n",
       "   generation_nuclear  generation_hydro_run_of_river_and_poundage  \\\n",
       "0                5064                                   20.123681   \n",
       "1                6727                                   17.001332   \n",
       "2                7103                                   21.075366   \n",
       "3                6081                                   21.328854   \n",
       "4                6838                                   16.865613   \n",
       "\n",
       "   generation_other_renewable  generation_waste  generation_fossil_oil  \\\n",
       "0                           0      9.887789e+05                    284   \n",
       "1                           1      1.039426e+06                    284   \n",
       "2                           0      1.269682e+06                    324   \n",
       "3                           0      1.691404e+06                    362   \n",
       "4                           0      1.316829e+06                    250   \n",
       "\n",
       "   generation_other  generation_hydro_water_reservoir  generation_biomass  \\\n",
       "0                 0                         16.372457                 372   \n",
       "1                 1                         15.990127                 572   \n",
       "2                 0                         21.918898                 274   \n",
       "3                 0                         21.770474                 277   \n",
       "4                 2                         15.416567                 347   \n",
       "\n",
       "   generation_solar  pressure  generation_wind_onshore  \\\n",
       "0                56      1018                55.519595   \n",
       "1              3155      1017                55.127503   \n",
       "2              4111      1026                63.440782   \n",
       "3                16      1017                66.081575   \n",
       "4              2987      1010                67.090034   \n",
       "\n",
       "   generation_hydro_pumped_storage_consumption  \\\n",
       "0                                            1   \n",
       "1                                         1473   \n",
       "2                                          192   \n",
       "3                                            0   \n",
       "4                                          912   \n",
       "\n",
       "   generation_fossil_brown_coal_lignite  temp_min  wind_speed  temp  temp_max  \n",
       "0                                   463      14.0         3.6  15.2      17.0  \n",
       "1                                   203      23.0         3.6  28.5      40.0  \n",
       "2                                     0      14.0        10.8  15.0      16.0  \n",
       "3                                   622      27.0        10.8  27.0      27.0  \n",
       "4                                   393      33.0        10.8  33.4      34.0  "
      ]
     },
     "execution_count": 40,
     "metadata": {},
     "output_type": "execute_result"
    }
   ],
   "source": [
    "df_copy.head()"
   ]
  }
 ],
 "metadata": {
  "kernelspec": {
   "display_name": "Python 3",
   "language": "python",
   "name": "python3"
  },
  "language_info": {
   "codemirror_mode": {
    "name": "ipython",
    "version": 3
   },
   "file_extension": ".py",
   "mimetype": "text/x-python",
   "name": "python",
   "nbconvert_exporter": "python",
   "pygments_lexer": "ipython3",
   "version": "3.11.7"
  }
 },
 "nbformat": 4,
 "nbformat_minor": 2
}
