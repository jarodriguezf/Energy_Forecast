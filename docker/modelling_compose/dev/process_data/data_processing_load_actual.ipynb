{
 "cells": [
  {
   "cell_type": "code",
   "execution_count": 47,
   "metadata": {},
   "outputs": [],
   "source": [
    "import pandas as pd\n",
    "import numpy as np\n",
    "import matplotlib.pyplot as plt\n",
    "import seaborn as sns\n",
    "from imblearn.over_sampling import SMOTE\n",
    "from sklearn.cluster import KMeans\n",
    "from sklearn.preprocessing import power_transform, StandardScaler\n",
    "from sklearn.mixture import GaussianMixture"
   ]
  },
  {
   "cell_type": "code",
   "execution_count": 2,
   "metadata": {},
   "outputs": [],
   "source": [
    "df = pd.read_parquet('../../data_parquet/train_data.parquet')\n",
    "df_copy = df.copy()"
   ]
  },
  {
   "cell_type": "markdown",
   "metadata": {},
   "source": [
    "**Procesamos las columnas con mayor significancia (visto en baseline)**"
   ]
  },
  {
   "cell_type": "code",
   "execution_count": 3,
   "metadata": {},
   "outputs": [],
   "source": [
    "df_copy = df_copy[['generation_hydro_pumped_storage_consumption','generation_solar',\n",
    "                   'generation_fossil_gas','generation_wind_onshore',\n",
    "                   'generation_fossil_oil','generation_hydro_water_reservoir',\n",
    "                   'generation_hydro_run_of_river_and_poundage','generation_nuclear',\n",
    "                   'generation_fossil_hard_coal','price_actual','generation_waste',\n",
    "                   'generation_fossil_brown_coal_lignite','generation_biomass',\n",
    "                   'generation_other','generation_other_renewable', 'total_load_actual']]"
   ]
  },
  {
   "cell_type": "code",
   "execution_count": 4,
   "metadata": {},
   "outputs": [],
   "source": [
    "# generation_hydro_pumped_storage_consumption, estratificar en dos categorias 0 y 1.\n",
    "def stratify_generation_hydro_pumped_storage_consumption(df_copy):\n",
    "    \"\"\" Si los valores de la variable son mayores que 0, el valor se modifica a 1.\n",
    "        En caso contrario, se mantienen en 0.\n",
    "    Args:\n",
    "        df_copy (Dataframe): copia de dataframe sin modificar valores\n",
    "\n",
    "    Returns:\n",
    "        Dataframe: dataframe modificado\n",
    "    \"\"\"\n",
    "    df_copy['generation_hydro_pumped_storage_consumption']=df_copy['generation_hydro_pumped_storage_consumption'].apply(lambda x: 1 if x > 0 else 0)\n",
    "    return df_copy"
   ]
  },
  {
   "cell_type": "code",
   "execution_count": 5,
   "metadata": {},
   "outputs": [],
   "source": [
    "df_copy=stratify_generation_hydro_pumped_storage_consumption(df_copy)"
   ]
  },
  {
   "cell_type": "code",
   "execution_count": 6,
   "metadata": {},
   "outputs": [],
   "source": [
    "# Funcion que replica el valor de 1 en la variables asignadas,\n",
    "# Con el objetivo de equilibrar las categorías\n",
    "def apply_smote(df_copy, target_column, random_state=42, k_neighbors=5):\n",
    "    X = df_copy.drop(target_column, axis=1)\n",
    "    y = df_copy[target_column]\n",
    "\n",
    "    smote = SMOTE(random_state=random_state, k_neighbors=k_neighbors)\n",
    "    X_res, y_res = smote.fit_resample(X, y)\n",
    "\n",
    "    df_res = pd.DataFrame(X_res, columns=X.columns)\n",
    "    df_res[target_column] = y_res\n",
    "\n",
    "    return df_res"
   ]
  },
  {
   "cell_type": "code",
   "execution_count": 7,
   "metadata": {},
   "outputs": [],
   "source": [
    "df_copy = apply_smote(df_copy, 'generation_hydro_pumped_storage_consumption')"
   ]
  },
  {
   "cell_type": "code",
   "execution_count": 8,
   "metadata": {},
   "outputs": [],
   "source": [
    "# generation_solar, estratificar en dos categorias 0 y 1.\n",
    "def stratify_generation_solar(df_copy):\n",
    "    \"\"\" Si los valores de la variable son menores que 600, el valor se modifica a 0.\n",
    "        En caso contrario, se mantienen en 1.\n",
    "    Args:\n",
    "        df_copy (Dataframe): copia de dataframe sin modificar valores\n",
    "\n",
    "    Returns:\n",
    "        Dataframe: dataframe modificado\n",
    "    \"\"\"\n",
    "    df_copy['generation_solar']=df_copy['generation_solar'].apply(lambda x: 0 if x < 600 else 1)\n",
    "    return df_copy"
   ]
  },
  {
   "cell_type": "code",
   "execution_count": 9,
   "metadata": {},
   "outputs": [],
   "source": [
    "df_copy = stratify_generation_solar(df_copy)"
   ]
  },
  {
   "cell_type": "code",
   "execution_count": 10,
   "metadata": {},
   "outputs": [],
   "source": [
    "# generation_fossil_gas, eliminar valores atípicos\n",
    "def outliers_generation_fossil_gas(df_copy):\n",
    "    # Deteccion de atípicos \n",
    "    q1 = df_copy['generation_fossil_gas'].quantile(0.25)\n",
    "    q3 = df_copy['generation_fossil_gas'].quantile(0.75)\n",
    "    iqr = q3-q1\n",
    "    Lower_tail = q1 - 1.5 * iqr\n",
    "    Upper_tail = q3 + 1.5 * iqr\n",
    "\n",
    "    print('Antes de eliminar atípicos:',len(df_copy['generation_fossil_gas']))\n",
    "    \n",
    "    # Filtramos en pandas extrayendo los valores entre los quantiles\n",
    "    filtered_df = df_copy[(df_copy['generation_fossil_gas'] >= Lower_tail)&(df_copy['generation_fossil_gas'] <= Upper_tail)]\n",
    "\n",
    "    print('Despues de eliminar atípicos:',len(filtered_df))\n",
    "    return filtered_df"
   ]
  },
  {
   "cell_type": "code",
   "execution_count": 11,
   "metadata": {},
   "outputs": [
    {
     "name": "stdout",
     "output_type": "stream",
     "text": [
      "Antes de eliminar atípicos: 205304\n",
      "Despues de eliminar atípicos: 195300\n"
     ]
    }
   ],
   "source": [
    "df_copy=outliers_generation_fossil_gas(df_copy)"
   ]
  },
  {
   "cell_type": "code",
   "execution_count": 12,
   "metadata": {},
   "outputs": [],
   "source": [
    "# generation_wind_onshore, transformación logarítmica\n",
    "def logarithm_generation_wind_onshore(df_copy):\n",
    "    array1d = df_copy['generation_wind_onshore'].values\n",
    "    array2d = array1d.reshape(-1,1)\n",
    "    df_copy['generation_wind_onshore'] = power_transform(array2d, method='yeo-johnson', standardize=False)\n",
    "    return df_copy"
   ]
  },
  {
   "cell_type": "code",
   "execution_count": 13,
   "metadata": {},
   "outputs": [],
   "source": [
    "df_copy=logarithm_generation_wind_onshore(df_copy)"
   ]
  },
  {
   "cell_type": "code",
   "execution_count": 14,
   "metadata": {},
   "outputs": [],
   "source": [
    "# generation_fossil_oil, eliminar valores atípicos\n",
    "def outliers_generation_fossil_oil(df_copy):\n",
    "    # Deteccion de atípicos \n",
    "    q1 = df_copy['generation_fossil_oil'].quantile(0.25)\n",
    "    q3 = df_copy['generation_fossil_oil'].quantile(0.75)\n",
    "    iqr = q3-q1\n",
    "    Lower_tail = q1 - 1.5 * iqr\n",
    "    Upper_tail = q3 + 1.5 * iqr\n",
    "\n",
    "    print('Antes de eliminar atípicos:',len(df_copy['generation_fossil_oil']))\n",
    "    \n",
    "    # Filtramos en pandas extrayendo los valores entre los quantiles\n",
    "    filtered_df = df_copy[(df_copy['generation_fossil_oil'] >= Lower_tail)&(df_copy['generation_fossil_oil'] <= Upper_tail)]\n",
    "\n",
    "    print('Despues de eliminar atípicos:',len(filtered_df))\n",
    "    return filtered_df"
   ]
  },
  {
   "cell_type": "code",
   "execution_count": 15,
   "metadata": {},
   "outputs": [
    {
     "name": "stdout",
     "output_type": "stream",
     "text": [
      "Antes de eliminar atípicos: 195300\n",
      "Despues de eliminar atípicos: 193367\n"
     ]
    }
   ],
   "source": [
    "df_copy=outliers_generation_fossil_oil(df_copy)"
   ]
  },
  {
   "cell_type": "code",
   "execution_count": 16,
   "metadata": {},
   "outputs": [],
   "source": [
    "# generation_hydro_water_reservoir, transformación logarítmica\n",
    "def logarithm_generation_hydro_water_reservoirl(df_copy):\n",
    "    array1d = df_copy['generation_hydro_water_reservoir'].values\n",
    "    array2d = array1d.reshape(-1,1)\n",
    "    df_copy['generation_hydro_water_reservoir'] = power_transform(array2d, method='box-cox', standardize=False)\n",
    "    return df_copy"
   ]
  },
  {
   "cell_type": "code",
   "execution_count": 17,
   "metadata": {},
   "outputs": [],
   "source": [
    "df_copy = logarithm_generation_hydro_water_reservoirl(df_copy)"
   ]
  },
  {
   "cell_type": "code",
   "execution_count": 18,
   "metadata": {},
   "outputs": [],
   "source": [
    "# generation_hydro_water_reservoir, transformación logarítmica\n",
    "def logarithm_generation_hydro_run_of_river_and_poundage(df_copy):\n",
    "    array1d = df_copy['generation_hydro_run_of_river_and_poundage'].values\n",
    "    array2d = array1d.reshape(-1,1)\n",
    "    df_copy['generation_hydro_run_of_river_and_poundage'] = power_transform(array2d, method='yeo-johnson', standardize=False)\n",
    "    return df_copy"
   ]
  },
  {
   "cell_type": "code",
   "execution_count": 19,
   "metadata": {},
   "outputs": [],
   "source": [
    "df_copy = logarithm_generation_hydro_run_of_river_and_poundage(df_copy)"
   ]
  },
  {
   "cell_type": "code",
   "execution_count": 20,
   "metadata": {},
   "outputs": [],
   "source": [
    "# generation_hydro_run_of_river_and_poundage, eliminar valores atípicos\n",
    "def outliers_generation_hydro_run_of_river_and_poundage(df_copy):\n",
    "    # Deteccion de atípicos \n",
    "    q1 = df_copy['generation_hydro_run_of_river_and_poundage'].quantile(0.25)\n",
    "    q3 = df_copy['generation_hydro_run_of_river_and_poundage'].quantile(0.75)\n",
    "    iqr = q3-q1\n",
    "    Lower_tail = q1 - 1.5 * iqr\n",
    "    Upper_tail = q3 + 1.5 * iqr\n",
    "\n",
    "    print('Antes de eliminar atípicos:',len(df_copy['generation_hydro_run_of_river_and_poundage']))\n",
    "    \n",
    "    # Filtramos en pandas extrayendo los valores entre los quantiles\n",
    "    filtered_df = df_copy[(df_copy['generation_hydro_run_of_river_and_poundage'] >= Lower_tail)&(df_copy['generation_hydro_run_of_river_and_poundage'] <= Upper_tail)]\n",
    "\n",
    "    print('Despues de eliminar atípicos:',len(filtered_df))\n",
    "    return filtered_df"
   ]
  },
  {
   "cell_type": "code",
   "execution_count": 21,
   "metadata": {},
   "outputs": [
    {
     "name": "stdout",
     "output_type": "stream",
     "text": [
      "Antes de eliminar atípicos: 193367\n",
      "Despues de eliminar atípicos: 193363\n"
     ]
    }
   ],
   "source": [
    "df_copy = outliers_generation_hydro_run_of_river_and_poundage(df_copy)"
   ]
  },
  {
   "cell_type": "code",
   "execution_count": 22,
   "metadata": {},
   "outputs": [],
   "source": [
    "# Estratificamos variable generation_nuclear\n",
    "def stratify_generation_nuclear(df_copy):\n",
    "    bins = [0,6000,7000, float('inf')]\n",
    "    labels = [0,1,2]\n",
    "    df_copy['generation_nuclear'] = pd.cut(x=df_copy['generation_nuclear'].values,bins=bins, labels=labels)\n",
    "    return df_copy"
   ]
  },
  {
   "cell_type": "code",
   "execution_count": 23,
   "metadata": {},
   "outputs": [],
   "source": [
    "df_copy = stratify_generation_nuclear(df_copy)"
   ]
  },
  {
   "cell_type": "code",
   "execution_count": 26,
   "metadata": {},
   "outputs": [],
   "source": [
    "# Clase perteneciente a generation_fossil_hard_coal, kmeans y transformacion por distancias al centroide\n",
    "class distance_transform_generation_fossil_hard_coal:\n",
    "    def __init__(self, df_copy):\n",
    "        self.df_copy = df_copy\n",
    "    \n",
    "    def scaler(self):\n",
    "        scaler = StandardScaler()\n",
    "        df_copy['generation_fossil_hard_coal']=scaler.fit_transform(self.df_copy[['generation_fossil_hard_coal']])\n",
    "        return self.df_copy\n",
    "\n",
    "    def kmeans_transform(self):\n",
    "        self.scaler() # Escalamos en funcion\n",
    "        # Clustering\n",
    "        kmeans = KMeans(n_clusters=2, random_state=42)\n",
    "        kmeans.fit(self.df_copy[['generation_fossil_hard_coal']])\n",
    "\n",
    "        # Extraemos distancias\n",
    "        distances = kmeans.transform(self.df_copy[['generation_fossil_hard_coal']])\n",
    "\n",
    "        # Añadimos a la columna los nuevos valores\n",
    "        self.df_copy['generation_fossil_hard_coal'] = distances\n",
    "        \n",
    "        return self.df_copy"
   ]
  },
  {
   "cell_type": "code",
   "execution_count": 27,
   "metadata": {},
   "outputs": [],
   "source": [
    "distance_transform = distance_transform_generation_fossil_hard_coal(df_copy)\n",
    "df_copy = distance_transform.kmeans_transform()"
   ]
  },
  {
   "cell_type": "code",
   "execution_count": 29,
   "metadata": {},
   "outputs": [],
   "source": [
    "# price_actual, eliminar valores atípicos\n",
    "def outliers_price_actual(df_copy):\n",
    "    # Deteccion de atípicos \n",
    "    q1 = df_copy['price_actual'].quantile(0.25)\n",
    "    q3 = df_copy['price_actual'].quantile(0.75)\n",
    "    iqr = q3-q1\n",
    "    Lower_tail = q1 - 1.5 * iqr\n",
    "    Upper_tail = q3 + 1.5 * iqr\n",
    "\n",
    "    print('Antes de eliminar atípicos:',len(df_copy['price_actual']))\n",
    "    \n",
    "    # Filtramos en pandas extrayendo los valores entre los quantiles\n",
    "    filtered_df = df_copy[(df_copy['price_actual'] >= Lower_tail)&(df_copy['price_actual'] <= Upper_tail)]\n",
    "\n",
    "    print('Despues de eliminar atípicos:',len(filtered_df))\n",
    "    return filtered_df"
   ]
  },
  {
   "cell_type": "code",
   "execution_count": 30,
   "metadata": {},
   "outputs": [
    {
     "name": "stdout",
     "output_type": "stream",
     "text": [
      "Antes de eliminar atípicos: 193363\n",
      "Despues de eliminar atípicos: 189524\n"
     ]
    }
   ],
   "source": [
    "df_copy=outliers_price_actual(df_copy)"
   ]
  },
  {
   "cell_type": "code",
   "execution_count": 34,
   "metadata": {},
   "outputs": [],
   "source": [
    "# generation_waste, transformación logarítmica\n",
    "def logarithm_generation_waste(df_copy):\n",
    "    array1d = df_copy['generation_waste'].values\n",
    "    array2d = array1d.reshape(-1,1)\n",
    "    df_copy['generation_waste'] = power_transform(array2d, method='yeo-johnson', standardize=False)\n",
    "    return df_copy"
   ]
  },
  {
   "cell_type": "code",
   "execution_count": 35,
   "metadata": {},
   "outputs": [
    {
     "name": "stderr",
     "output_type": "stream",
     "text": [
      "C:\\Users\\jarod\\AppData\\Local\\Temp\\ipykernel_9120\\2642901404.py:5: SettingWithCopyWarning: \n",
      "A value is trying to be set on a copy of a slice from a DataFrame.\n",
      "Try using .loc[row_indexer,col_indexer] = value instead\n",
      "\n",
      "See the caveats in the documentation: https://pandas.pydata.org/pandas-docs/stable/user_guide/indexing.html#returning-a-view-versus-a-copy\n",
      "  df_copy['generation_waste'] = power_transform(array2d, method='yeo-johnson', standardize=False)\n"
     ]
    }
   ],
   "source": [
    "df_copy = logarithm_generation_waste(df_copy)"
   ]
  },
  {
   "cell_type": "code",
   "execution_count": 37,
   "metadata": {},
   "outputs": [],
   "source": [
    "# generation_fossil_brown_coal_lignite, estratificar en dos categorias 0 y 1.\n",
    "def stratify_generation_fossil_brown_coal_lignite(df_copy):\n",
    "    \"\"\" Si los valores de la variable son mayores que 200, el valor se modifica a 1.\n",
    "        En caso contrario, se mantienen en 0.\n",
    "    Args:\n",
    "        df_copy (Dataframe): copia de dataframe sin modificar valores\n",
    "\n",
    "    Returns:\n",
    "        Dataframe: dataframe modificado\n",
    "    \"\"\"\n",
    "    df_copy['generation_fossil_brown_coal_lignite']=df_copy['generation_fossil_brown_coal_lignite'].apply(lambda x: 1 if x >= 200 else 0)\n",
    "    return df_copy"
   ]
  },
  {
   "cell_type": "code",
   "execution_count": 38,
   "metadata": {},
   "outputs": [
    {
     "name": "stderr",
     "output_type": "stream",
     "text": [
      "C:\\Users\\jarod\\AppData\\Local\\Temp\\ipykernel_9120\\2796250732.py:11: SettingWithCopyWarning: \n",
      "A value is trying to be set on a copy of a slice from a DataFrame.\n",
      "Try using .loc[row_indexer,col_indexer] = value instead\n",
      "\n",
      "See the caveats in the documentation: https://pandas.pydata.org/pandas-docs/stable/user_guide/indexing.html#returning-a-view-versus-a-copy\n",
      "  df_copy['generation_fossil_brown_coal_lignite']=df_copy['generation_fossil_brown_coal_lignite'].apply(lambda x: 1 if x >= 200 else 0)\n"
     ]
    }
   ],
   "source": [
    "df_copy = stratify_generation_fossil_brown_coal_lignite(df_copy)"
   ]
  },
  {
   "cell_type": "code",
   "execution_count": 40,
   "metadata": {},
   "outputs": [],
   "source": [
    "df_copy = apply_smote(df_copy, 'generation_fossil_brown_coal_lignite')"
   ]
  },
  {
   "cell_type": "code",
   "execution_count": 44,
   "metadata": {},
   "outputs": [],
   "source": [
    "# Funcion que extrae los grupos de generation_biomass\n",
    "def transform_generation_biomass_gmm(filtered_df):\n",
    "    data = filtered_df['generation_biomass'].values\n",
    "    data = data.reshape(-1,1)\n",
    "\n",
    "    # entrenar\n",
    "    gmm = GaussianMixture(n_components=3, n_init=10)\n",
    "    gmm.fit(data)\n",
    "\n",
    "    # predecir probabilidades\n",
    "    values = gmm.predict_proba(data).round(3)\n",
    "    values = np.argmax(values, axis=1)\n",
    "\n",
    "    filtered_df['generation_biomass'] = values\n",
    "    return filtered_df"
   ]
  },
  {
   "cell_type": "code",
   "execution_count": 45,
   "metadata": {},
   "outputs": [],
   "source": [
    "# Funcion que elimina atípicos de generation_biomass\n",
    "def transform_generation_biomass_out(df_copy):\n",
    "    q1 = df_copy['generation_biomass'].quantile(0.25)\n",
    "    q3 = df_copy['generation_biomass'].quantile(0.75)\n",
    "    iqr = q3-q1\n",
    "    Lower_tail = q1 - 1.5 * iqr\n",
    "    Upper_tail = q3 + 1.5 * iqr\n",
    "\n",
    "    print('Antes de eliminar atípicos:',len(df_copy['generation_biomass']))\n",
    "        \n",
    "    # Filtramos en pandas extrayendo los valores entre los quantiles\n",
    "    filtered_df = df_copy[(df_copy['generation_biomass'] >= Lower_tail)&(df_copy['generation_biomass'] <= Upper_tail)]\n",
    "\n",
    "    print('Despues de eliminar atípicos:',len(filtered_df))\n",
    "\n",
    "    return transform_generation_biomass_gmm(filtered_df)"
   ]
  },
  {
   "cell_type": "code",
   "execution_count": 48,
   "metadata": {},
   "outputs": [
    {
     "name": "stdout",
     "output_type": "stream",
     "text": [
      "Antes de eliminar atípicos: 263812\n",
      "Despues de eliminar atípicos: 263750\n"
     ]
    },
    {
     "name": "stderr",
     "output_type": "stream",
     "text": [
      "C:\\Users\\jarod\\AppData\\Local\\Temp\\ipykernel_9120\\2635199354.py:14: SettingWithCopyWarning: \n",
      "A value is trying to be set on a copy of a slice from a DataFrame.\n",
      "Try using .loc[row_indexer,col_indexer] = value instead\n",
      "\n",
      "See the caveats in the documentation: https://pandas.pydata.org/pandas-docs/stable/user_guide/indexing.html#returning-a-view-versus-a-copy\n",
      "  filtered_df['generation_biomass'] = values\n"
     ]
    }
   ],
   "source": [
    "df_copy=transform_generation_biomass_out(df_copy)"
   ]
  },
  {
   "cell_type": "code",
   "execution_count": 50,
   "metadata": {},
   "outputs": [],
   "source": [
    "def gmm_generation_other(df_copy):\n",
    "    \"\"\"Convertir valores de variable a cluster según multiples modos, mediante gaussian mixture.\n",
    "\n",
    "    Args:\n",
    "        df_copy (DataFrame): dataframe si modificar\n",
    "\n",
    "    Returns:\n",
    "        DataFrame: dataframe con valores modificado\n",
    "    \"\"\"\n",
    "    # extraer columna\n",
    "    data = df_copy['generation_other'].values\n",
    "    data = data.reshape(-1,1)\n",
    "\n",
    "    # entrenar\n",
    "    gmm = GaussianMixture(n_components=3, n_init=10)\n",
    "    gmm.fit(data)\n",
    "\n",
    "    # predecir probabilidades\n",
    "    values = gmm.predict_proba(data).round(3)\n",
    "    values = np.argmax(values, axis=1)\n",
    "\n",
    "    df_copy['generation_other'] = values\n",
    "    return df_copy"
   ]
  },
  {
   "cell_type": "code",
   "execution_count": 51,
   "metadata": {},
   "outputs": [
    {
     "name": "stderr",
     "output_type": "stream",
     "text": [
      "C:\\Users\\jarod\\AppData\\Local\\Temp\\ipykernel_9120\\1312073854.py:22: SettingWithCopyWarning: \n",
      "A value is trying to be set on a copy of a slice from a DataFrame.\n",
      "Try using .loc[row_indexer,col_indexer] = value instead\n",
      "\n",
      "See the caveats in the documentation: https://pandas.pydata.org/pandas-docs/stable/user_guide/indexing.html#returning-a-view-versus-a-copy\n",
      "  df_copy['generation_other'] = values\n"
     ]
    }
   ],
   "source": [
    "df_copy =  gmm_generation_other(df_copy)"
   ]
  },
  {
   "cell_type": "code",
   "execution_count": 53,
   "metadata": {},
   "outputs": [],
   "source": [
    "def gmm_generation_other_renewable(df_copy):\n",
    "    \"\"\"Convertir valores de variable a cluster según multiples modos, mediante gaussian mixture.\n",
    "\n",
    "    Args:\n",
    "        df_copy (DataFrame): dataframe si modificar\n",
    "\n",
    "    Returns:\n",
    "        DataFrame: dataframe con valores modificado\n",
    "    \"\"\"\n",
    "    # extraer columna\n",
    "    data = df_copy['generation_other_renewable'].values\n",
    "    data = data.reshape(-1,1)\n",
    "\n",
    "    # entrenar\n",
    "    gmm = GaussianMixture(n_components=2, n_init=10)\n",
    "    gmm.fit(data)\n",
    "\n",
    "    # predecir probabilidades\n",
    "    values = gmm.predict_proba(data).round(3)\n",
    "    values = np.argmax(values, axis=1)\n",
    "\n",
    "    df_copy['generation_other_renewable'] = values\n",
    "    return df_copy"
   ]
  },
  {
   "cell_type": "code",
   "execution_count": 54,
   "metadata": {},
   "outputs": [
    {
     "name": "stderr",
     "output_type": "stream",
     "text": [
      "C:\\Users\\jarod\\AppData\\Local\\Temp\\ipykernel_9120\\2981806644.py:22: SettingWithCopyWarning: \n",
      "A value is trying to be set on a copy of a slice from a DataFrame.\n",
      "Try using .loc[row_indexer,col_indexer] = value instead\n",
      "\n",
      "See the caveats in the documentation: https://pandas.pydata.org/pandas-docs/stable/user_guide/indexing.html#returning-a-view-versus-a-copy\n",
      "  df_copy['generation_other_renewable'] = values\n"
     ]
    }
   ],
   "source": [
    "df_copy =  gmm_generation_other_renewable(df_copy)"
   ]
  },
  {
   "cell_type": "code",
   "execution_count": 73,
   "metadata": {},
   "outputs": [],
   "source": [
    "# Funcion que elimina atípicos de total_load_actual\n",
    "def transform_total_load_actual(df_copy):\n",
    "    q1 = df_copy['total_load_actual'].quantile(0.25)\n",
    "    q3 = df_copy['total_load_actual'].quantile(0.75)\n",
    "    iqr = q3-q1\n",
    "    Lower_tail = q1 - 1.5 * iqr\n",
    "    Upper_tail = q3 + 1.5 * iqr\n",
    "\n",
    "    print('Antes de eliminar atípicos:',len(df_copy['total_load_actual']))\n",
    "        \n",
    "    # Filtramos en pandas extrayendo los valores entre los quantiles\n",
    "    filtered_df = df_copy[(df_copy['total_load_actual'] >= Lower_tail)&(df_copy['total_load_actual'] <= Upper_tail)]\n",
    "\n",
    "    print('Despues de eliminar atípicos:',len(filtered_df))\n",
    "\n",
    "    return transform_generation_biomass_gmm(filtered_df)"
   ]
  },
  {
   "cell_type": "code",
   "execution_count": 74,
   "metadata": {},
   "outputs": [
    {
     "name": "stdout",
     "output_type": "stream",
     "text": [
      "Antes de eliminar atípicos: 263750\n",
      "Despues de eliminar atípicos: 263633\n"
     ]
    },
    {
     "name": "stderr",
     "output_type": "stream",
     "text": [
      "C:\\Users\\jarod\\AppData\\Local\\Temp\\ipykernel_9120\\2635199354.py:14: SettingWithCopyWarning: \n",
      "A value is trying to be set on a copy of a slice from a DataFrame.\n",
      "Try using .loc[row_indexer,col_indexer] = value instead\n",
      "\n",
      "See the caveats in the documentation: https://pandas.pydata.org/pandas-docs/stable/user_guide/indexing.html#returning-a-view-versus-a-copy\n",
      "  filtered_df['generation_biomass'] = values\n"
     ]
    }
   ],
   "source": [
    "df_copy = transform_total_load_actual(df_copy)"
   ]
  },
  {
   "cell_type": "code",
   "execution_count": null,
   "metadata": {},
   "outputs": [],
   "source": [
    "df_copy = df_copy[['generation_hydro_pumped_storage_consumption','generation_solar',\n",
    "                   'generation_fossil_gas','generation_wind_onshore',\n",
    "                   'generation_fossil_oil','generation_hydro_water_reservoir',\n",
    "                   'generation_hydro_run_of_river_and_poundage','generation_nuclear',\n",
    "                   'generation_fossil_hard_coal','price_actual','generation_waste',\n",
    "                   'generation_fossil_brown_coal_lignite','generation_biomass',\n",
    "                   'generation_other','generation_other_renewable', 'total_load_actual']]"
   ]
  },
  {
   "cell_type": "code",
   "execution_count": 75,
   "metadata": {},
   "outputs": [
    {
     "data": {
      "text/plain": [
       "<Axes: xlabel='total_load_actual', ylabel='Count'>"
      ]
     },
     "execution_count": 75,
     "metadata": {},
     "output_type": "execute_result"
    },
    {
     "data": {
      "image/png": "[encoded data removed]",
      "text/plain": [
       "<Figure size 640x480 with 1 Axes>"
      ]
     },
     "metadata": {},
     "output_type": "display_data"
    }
   ],
   "source": [
    "sns.histplot(df_copy, x='total_load_actual')"
   ]
  }
 ],
 "metadata": {
  "kernelspec": {
   "display_name": "Python 3",
   "language": "python",
   "name": "python3"
  },
  "language_info": {
   "codemirror_mode": {
    "name": "ipython",
    "version": 3
   },
   "file_extension": ".py",
   "mimetype": "text/x-python",
   "name": "python",
   "nbconvert_exporter": "python",
   "pygments_lexer": "ipython3",
   "version": "3.11.7"
  }
 },
 "nbformat": 4,
 "nbformat_minor": 2
}
