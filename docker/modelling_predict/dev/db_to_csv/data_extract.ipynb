{
 "cells": [
  {
   "cell_type": "code",
   "execution_count": 10,
   "metadata": {},
   "outputs": [],
   "source": [
    "import pymysql\n",
    "import pyarrow.parquet as pq\n",
    "import pandas as pd"
   ]
  },
  {
   "cell_type": "code",
   "execution_count": 14,
   "metadata": {},
   "outputs": [],
   "source": [
    "# Establecer la conexión con la base de datos\n",
    "conn = pymysql.connect(\n",
    "    host='localhost',\n",
    "    user='admin',\n",
    "    password='admin',\n",
    "    database='HourlyEnergyForescast'\n",
    ")\n",
    "\n",
    "# Crear un cursor\n",
    "cursor = conn.cursor()\n",
    "\n",
    "# Ejecutar la consulta SQL\n",
    "cursor.execute(\"SELECT * FROM energy_data\")\n",
    "\n",
    "# Obtener los resultados de la consulta\n",
    "results = cursor.fetchall()\n",
    "\n",
    "# Obtener los nombres de las columnas\n",
    "columns = [i[0] for i in cursor.description]\n",
    "\n",
    "# Crear un DataFrame de pandas con los resultados\n",
    "df = pd.DataFrame(results, columns=columns)\n",
    "\n",
    "# Escribir el DataFrame en un archivo Parquet\n",
    "df.to_parquet('../../data_parquet/energy.parquet')\n",
    "\n",
    "# Cerrar el cursor y la conexión\n",
    "cursor.close()\n",
    "conn.close()\n"
   ]
  },
  {
   "cell_type": "code",
   "execution_count": 13,
   "metadata": {},
   "outputs": [],
   "source": [
    "# Establecer la conexión con la base de datos\n",
    "conn = pymysql.connect(\n",
    "    host='localhost',\n",
    "    user='admin',\n",
    "    password='admin',\n",
    "    database='HourlyEnergyForescast'\n",
    ")\n",
    "\n",
    "# Crear un cursor\n",
    "cursor = conn.cursor()\n",
    "\n",
    "# Ejecutar la consulta SQL\n",
    "cursor.execute(\"SELECT * FROM weather_data\")\n",
    "\n",
    "# Obtener los resultados de la consulta\n",
    "results = cursor.fetchall()\n",
    "\n",
    "# Obtener los nombres de las columnas\n",
    "columns = [i[0] for i in cursor.description]\n",
    "\n",
    "# Crear un DataFrame de pandas con los resultados\n",
    "df = pd.DataFrame(results, columns=columns)\n",
    "\n",
    "# Escribir el DataFrame en un archivo Parquet\n",
    "df.to_parquet('../../data_parquet/weather.parquet')\n",
    "\n",
    "# Cerrar el cursor y la conexión\n",
    "cursor.close()\n",
    "conn.close()"
   ]
  }
 ],
 "metadata": {
  "kernelspec": {
   "display_name": "Python 3",
   "language": "python",
   "name": "python3"
  },
  "language_info": {
   "codemirror_mode": {
    "name": "ipython",
    "version": 3
   },
   "file_extension": ".py",
   "mimetype": "text/x-python",
   "name": "python",
   "nbconvert_exporter": "python",
   "pygments_lexer": "ipython3",
   "version": "3.11.7"
  }
 },
 "nbformat": 4,
 "nbformat_minor": 2
}
